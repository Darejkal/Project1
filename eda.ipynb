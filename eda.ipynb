{
 "cells": [
  {
   "cell_type": "code",
   "execution_count": 17,
   "metadata": {},
   "outputs": [],
   "source": [
    "import pandas as pd\n",
    "df=pd.read_csv(\"prod/old_log.txt\",sep=\" \",names=[\"ts\",\"src\",\"type\",\"action\",\"i\"])\n",
    "df=df.drop([\"src\",\"type\"],axis=1)"
   ]
  },
  {
   "cell_type": "code",
   "execution_count": 36,
   "metadata": {},
   "outputs": [
    {
     "name": "stderr",
     "output_type": "stream",
     "text": [
      "/tmp/ipykernel_51065/3808403593.py:3: UserWarning: Could not infer format, so each element will be parsed individually, falling back to `dateutil`. To ensure parsing is consistent and as-expected, please specify a format.\n",
      "  dfview[\"ts\"]=pd.to_datetime(dfview[\"ts\"])\n"
     ]
    },
    {
     "data": {
      "text/plain": [
       "5.158951157662733"
      ]
     },
     "execution_count": 36,
     "metadata": {},
     "output_type": "execute_result"
    }
   ],
   "source": [
    "dfview=df.__deepcopy__()\n",
    "dfview=dfview[dfview[\"action\"]==\"done\"]\n",
    "dfview[\"ts\"]=pd.to_datetime(dfview[\"ts\"])\n",
    "dfview.shape[0]/(dfview[\"ts\"].max()-dfview[\"ts\"].min()).total_seconds()*60\n"
   ]
  }
 ],
 "metadata": {
  "kernelspec": {
   "display_name": "venv",
   "language": "python",
   "name": "python3"
  },
  "language_info": {
   "codemirror_mode": {
    "name": "ipython",
    "version": 3
   },
   "file_extension": ".py",
   "mimetype": "text/x-python",
   "name": "python",
   "nbconvert_exporter": "python",
   "pygments_lexer": "ipython3",
   "version": "3.11.2"
  }
 },
 "nbformat": 4,
 "nbformat_minor": 2
}
